{
 "cells": [
  {
   "cell_type": "code",
   "execution_count": 2,
   "metadata": {},
   "outputs": [],
   "source": [
    "import numpy as np\n",
    "import matplotlib.pyplot as plt"
   ]
  },
  {
   "cell_type": "markdown",
   "metadata": {},
   "source": [
    "#  Functions\n",
    "\n",
    "$ f: x \\mapsto y $\n",
    "\n",
    "$ x \\mapsto y $"
   ]
  },
  {
   "cell_type": "markdown",
   "metadata": {},
   "source": [
    "## Trigonimetric Functions \n",
    "\n",
    "sinudoid"
   ]
  },
  {
   "cell_type": "markdown",
   "metadata": {},
   "source": [
    "#  Calculus\n",
    "\n",
    "calculate space, shapes, time... in small changes."
   ]
  },
  {
   "cell_type": "markdown",
   "metadata": {},
   "source": [
    "## Small changes\n",
    "\n",
    "**$ \\Delta $** = $ x \\to 0 $\n",
    "\n",
    "$ \\frac{\\Delta x}{\\Delta y}$\n",
    "\n",
    "$\\Delta t $"
   ]
  },
  {
   "cell_type": "markdown",
   "metadata": {},
   "source": [
    "\n",
    "\n",
    "## Integral\n",
    "$\\int_a^b$-\n",
    "\n",
    "**Für Formula $$!**\n",
    "\n",
    "$$\\int_a^b$$\n",
    "\n"
   ]
  },
  {
   "cell_type": "markdown",
   "metadata": {},
   "source": [
    "## Derivetives:\n",
    "\n",
    "$d$ Derivative\n",
    "\n",
    "$\\partial$ Partial Derivative\n",
    "\n",
    "| order| leibniz|lagrange|partial|\n",
    "|:------:|:-----:|:-----:|:---:|\n",
    "| 1 Order | $\\frac{d}{dx} f$ | $f'$ |$\\frac{\\partial}{\\partial x}f$\n",
    "| 2 Order | $\\frac{d^2}{dx^2} f$ | $f''$ |$\\frac{\\partial^2}{\\partial x^2}f$\n",
    "| 3 Order | $\\frac{d^3}{dx^3} f$ | $f'''$ |$\\frac{\\partial^3}{\\partial x^3}f$\n",
    "| 4 Order | $\\frac{d^4}{dx^4} f$ | $f''''$ |$\\frac{\\partial^4}{\\partial x^4}f$\n"
   ]
  }
 ],
 "metadata": {
  "kernelspec": {
   "display_name": "Python 3.9.12 ('musda')",
   "language": "python",
   "name": "python3"
  },
  "language_info": {
   "codemirror_mode": {
    "name": "ipython",
    "version": 3
   },
   "file_extension": ".py",
   "mimetype": "text/x-python",
   "name": "python",
   "nbconvert_exporter": "python",
   "pygments_lexer": "ipython3",
   "version": "3.9.12"
  },
  "orig_nbformat": 4,
  "vscode": {
   "interpreter": {
    "hash": "429f2fb3099a1d06ac4a0a3294bf37318abad212278278ecdd3cbb1177cfb66c"
   }
  }
 },
 "nbformat": 4,
 "nbformat_minor": 2
}
