{
 "cells": [
  {
   "cell_type": "code",
   "execution_count": 1,
   "metadata": {},
   "outputs": [],
   "source": [
    "import numpy as np\n",
    "import matplotlib.pyplot as plt\n",
    "import sys\n",
    "from scipy import linalg\n"
   ]
  },
  {
   "cell_type": "markdown",
   "metadata": {},
   "source": [
    "# Linear Algebra"
   ]
  },
  {
   "cell_type": "markdown",
   "metadata": {},
   "source": [
    "## Vector\n",
    "\n",
    "$\\vec v$"
   ]
  },
  {
   "cell_type": "markdown",
   "metadata": {},
   "source": [
    "### Scalar\n"
   ]
  },
  {
   "cell_type": "code",
   "execution_count": 5,
   "metadata": {},
   "outputs": [
    {
     "name": "stdout",
     "output_type": "stream",
     "text": [
      "[ 2 -1]\n"
     ]
    },
    {
     "data": {
      "image/png": "[encoded data removed]",
      "text/plain": [
       "<Figure size 432x288 with 1 Axes>"
      ]
     },
     "metadata": {
      "needs_background": "light"
     },
     "output_type": "display_data"
    }
   ],
   "source": [
    "aScalar = 4\n",
    "\n",
    "v = np.array([2, -1])\n",
    "print(v)\n",
    "plt.plot([0,v[0]], [0, v[1]]) #x,y\n",
    "plt.axis([-3,3,-3,3])\n",
    "plt.show()"
   ]
  },
  {
   "cell_type": "markdown",
   "metadata": {},
   "source": [
    "### Random Vector\n",
    "\n",
    "decimal numbers (floats) :\n",
    "\n",
    "Scalar: \n",
    "`np.random.randn()` \n",
    "\n",
    "vector:\n",
    "`np.random.randn(a)`"
   ]
  },
  {
   "cell_type": "code",
   "execution_count": null,
   "metadata": {},
   "outputs": [],
   "source": [
    "v = np.array ([1,2])\n",
    "plt.plot([0, v[0]], [0,v[1]])\n",
    "\n",
    "for i in range(10):\n",
    "    s = np.random.randn() # random scalar\n",
    "    sv = s*v\n",
    "    plt.plot([0, sv[0]], [0,sv[1]])\n",
    "plt.grid('on')\n",
    "plt.axis([-4,4,-4,4])"
   ]
  },
  {
   "cell_type": "markdown",
   "metadata": {},
   "source": [
    "### Colomn and raw vectors\n",
    "\n",
    "*Raw Vector*: \n",
    "\n",
    " $[x_1,x_2,\\dots, x_N]$ $\\to$ **function** `np.array([1,2,3])` $\\to $ $\\begin{bmatrix} x_{1},x_{2},\\dots ,x_{N}\\end{bmatrix}$\n",
    "\n",
    "\n",
    "*Colomn Vector*: \n",
    "\n",
    "$[x_1,x_2, \\dots,x_N ]^T $ $\\to$ **function** `np.array([1],[2].[3])`or `.T` $\\to$  $\\begin{bmatrix}x_{1} \\\\x_{2} \\\\\\vdots \\\\x_{N}\\end{bmatrix}$\n"
   ]
  },
  {
   "cell_type": "code",
   "execution_count": 14,
   "metadata": {},
   "outputs": [
    {
     "name": "stdout",
     "output_type": "stream",
     "text": [
      "column vector: \n",
      "[[2]\n",
      " [5]\n",
      " [4]\n",
      " [7]]\n",
      "\n",
      " raw vector\n",
      "[[2 5 4 7]]\n"
     ]
    }
   ],
   "source": [
    "\n",
    "v1 = np.array([2,5,4,7]) #array, no oriantation\n",
    "v2 = np.array([[2],[5],[4],[7]]) #colomn vector\n",
    "v3 = np.array([[2,5,4,7]]) # raw vector\n",
    "\n",
    "\n",
    "\n",
    "print(\"column vector: \")\n",
    "print(v2)\n",
    "print()\n",
    "print(\" raw vector\")\n",
    "print(v3)\n",
    "\n"
   ]
  },
  {
   "cell_type": "code",
   "execution_count": 15,
   "metadata": {},
   "outputs": [
    {
     "name": "stdout",
     "output_type": "stream",
     "text": [
      "[[2 5 4 7]]\n",
      "[[2]\n",
      " [5]\n",
      " [4]\n",
      " [7]]\n"
     ]
    }
   ],
   "source": [
    "print(v2.T)\n",
    "print(v3.T)"
   ]
  },
  {
   "cell_type": "markdown",
   "metadata": {},
   "source": [
    "### Addition"
   ]
  },
  {
   "cell_type": "code",
   "execution_count": 16,
   "metadata": {},
   "outputs": [
    {
     "name": "stdout",
     "output_type": "stream",
     "text": [
      "[[ 4  7  6  9]\n",
      " [ 7 10  9 12]\n",
      " [ 6  9  8 11]\n",
      " [ 9 12 11 14]]\n"
     ]
    }
   ],
   "source": [
    "summe= v2+v3\n",
    "print(summe)"
   ]
  },
  {
   "cell_type": "code",
   "execution_count": 18,
   "metadata": {},
   "outputs": [
    {
     "name": "stdout",
     "output_type": "stream",
     "text": [
      "[[ 0 -3 -2 -5]\n",
      " [ 3  0  1 -2]\n",
      " [ 2 -1  0 -3]\n",
      " [ 5  2  3  0]]\n"
     ]
    }
   ],
   "source": [
    "subtraction = v2-v3\n",
    "print(subtraction)"
   ]
  },
  {
   "cell_type": "markdown",
   "metadata": {},
   "source": [
    "### Multiplication"
   ]
  },
  {
   "cell_type": "code",
   "execution_count": 34,
   "metadata": {},
   "outputs": [
    {
     "name": "stdout",
     "output_type": "stream",
     "text": [
      "[4 1 0 2]\n",
      "[[2 5 4 7]]\n",
      "[[ 8  5  0 14]]\n",
      "[[ 8  2  0  4]\n",
      " [20  5  0 10]\n",
      " [16  4  0  8]\n",
      " [28  7  0 14]]\n"
     ]
    }
   ],
   "source": [
    "\n",
    "print(v2)\n",
    "print(v3)\n",
    "\n",
    "multiplication = v2 * v3\n",
    "multiplication_t = v2 * v3.T\n",
    "\n",
    "print(multiplication)\n",
    "print(multiplication_t)"
   ]
  },
  {
   "cell_type": "markdown",
   "metadata": {},
   "source": [
    "### Product\n",
    "\n",
    "$v\\cdot w$ -dot product, inner product  --> `np.dot()` --> function\n",
    "\n",
    "$v\\times w$ -cross product,  Outer product --> `np.outer()` --> function\n"
   ]
  },
  {
   "cell_type": "code",
   "execution_count": 21,
   "metadata": {},
   "outputs": [
    {
     "name": "stdout",
     "output_type": "stream",
     "text": [
      "[2 5 4 7]\n",
      "\n",
      "[4 1 0 2]\n",
      "\n",
      "[ 8  5  0 14]\n",
      "\n",
      "27\n",
      "\n",
      "[[ 8  2  0  4]\n",
      " [20  5  0 10]\n",
      " [16  4  0  8]\n",
      " [28  7  0 14]]\n"
     ]
    }
   ],
   "source": [
    "v1 = np.array([2,5,4,7])\n",
    "v2 = np.array ([4,1,0,2])\n",
    "\n",
    "v3 = v1*v2\n",
    "\n",
    "dot_product = np.dot(v1,v2)\n",
    "outer_product = np.outer(v1,v2)\n",
    "\n",
    "print(v1)\n",
    "print()\n",
    "print(v2)\n",
    "print()\n",
    "print(v3)\n",
    "print()\n",
    "print(dot_product)\n",
    "print()\n",
    "print(outer_product)\n"
   ]
  },
  {
   "cell_type": "markdown",
   "metadata": {},
   "source": [
    "### Unit vectors\n",
    "\n",
    "$\\hat{v}, $\n",
    "\n",
    "$ \\vec v = 1$\n",
    "\n",
    "Linar algebra functions in numpy: \n",
    "`np.linalg`"
   ]
  },
  {
   "cell_type": "code",
   "execution_count": 3,
   "metadata": {},
   "outputs": [
    {
     "name": "stdout",
     "output_type": "stream",
     "text": [
      "9.695359714832659\n",
      "[0.20628425 0.51571062 0.4125685  0.72199487]\n"
     ]
    }
   ],
   "source": [
    "v = np.array([2,5,4,7])\n",
    "vMag = np.linalg.norm(v)\n",
    "print(vMag)\n",
    "v_unit = v/vMag\n",
    "print(v_unit)\n"
   ]
  },
  {
   "cell_type": "markdown",
   "metadata": {},
   "source": [
    "### *Norm vector*\n",
    "\n",
    "Magnidude of vector in complex space:\n",
    "\n",
    "$\\Vert \\vec v \\Vert$"
   ]
  },
  {
   "cell_type": "markdown",
   "metadata": {},
   "source": [
    "## Matrix\n",
    "\n",
    "\\begin{bmatrix}\n",
    "a_{1,1} & a_{1,2} & \\cdots & a_{1,n} \\\\\n",
    "a_{2,1} & a_{2,2} & \\cdots & a_{2,n} \\\\\n",
    "\\vdots  & \\vdots  & \\ddots & \\vdots  \\\\\n",
    "a_{m,1} & a_{m,2} & \\cdots & a_{m,n} \n",
    "\\end{bmatrix}\n",
    "\n",
    "\n",
    "\n",
    "$ A^T :$ $\\to$ **function** `.T`, `np.transpose()` \n"
   ]
  },
  {
   "cell_type": "code",
   "execution_count": 8,
   "metadata": {},
   "outputs": [
    {
     "name": "stdout",
     "output_type": "stream",
     "text": [
      "[[ 1.27057957  0.64664637  0.64580111 -0.00486526 -0.49117133]\n",
      " [-1.18197875  0.4551216  -0.76278113 -1.61729346  1.14716241]]\n",
      "[[ 1.27057957 -1.18197875]\n",
      " [ 0.64664637  0.4551216 ]\n",
      " [ 0.64580111 -0.76278113]\n",
      " [-0.00486526 -1.61729346]\n",
      " [-0.49117133  1.14716241]]\n",
      "[[ 1.27057957 -1.18197875]\n",
      " [ 0.64664637  0.4551216 ]\n",
      " [ 0.64580111 -0.76278113]\n",
      " [-0.00486526 -1.61729346]\n",
      " [-0.49117133  1.14716241]]\n"
     ]
    }
   ],
   "source": [
    "a = np.random.randn(2,5) # matrix 2 raw, 5 colomns\n",
    "print(a)\n",
    "a_transpose1= a.T\n",
    "print(a_transpose1)\n",
    "\n",
    "a_transpose2=np.transpose(a)\n",
    "print(a_transpose2)"
   ]
  },
  {
   "cell_type": "markdown",
   "metadata": {},
   "source": [
    "### Einheitsmatrix, zero,one\n",
    "\n",
    "Einheitsmatrix:  Alle  Diagonal elements with one:\n",
    "**function** `np.eye()` \n",
    "\n",
    "`np.zeros()`\n",
    "\n",
    "`np.ones()`\n",
    "\n"
   ]
  },
  {
   "cell_type": "code",
   "execution_count": 13,
   "metadata": {},
   "outputs": [
    {
     "name": "stdout",
     "output_type": "stream",
     "text": [
      "[[1. 0. 0. 0. 0. 0. 0. 0.]\n",
      " [0. 1. 0. 0. 0. 0. 0. 0.]\n",
      " [0. 0. 1. 0. 0. 0. 0. 0.]\n",
      " [0. 0. 0. 1. 0. 0. 0. 0.]\n",
      " [0. 0. 0. 0. 1. 0. 0. 0.]\n",
      " [0. 0. 0. 0. 0. 1. 0. 0.]\n",
      " [0. 0. 0. 0. 0. 0. 1. 0.]\n",
      " [0. 0. 0. 0. 0. 0. 0. 1.]]\n",
      "\n",
      "[1. 1. 1. 1.]\n",
      "\n",
      "[[0. 0. 0. 0. 0.]\n",
      " [0. 0. 0. 0. 0.]\n",
      " [0. 0. 0. 0. 0.]\n",
      " [0. 0. 0. 0. 0.]]\n"
     ]
    }
   ],
   "source": [
    "i = np.eye(8) # diagonal with 1 , other o\n",
    "\n",
    "# ones, zeros can be array and matrix:\n",
    "o = np.ones(4) # array(vector)\n",
    "z = np.zeros((4,5)) # mmatrix\n",
    "\n",
    "\n",
    "\n",
    "print(i)\n",
    "print()\n",
    "print(o)\n",
    "print()\n",
    "print(z)"
   ]
  },
  {
   "cell_type": "markdown",
   "metadata": {},
   "source": [
    "### Diagonal elements"
   ]
  },
  {
   "cell_type": "code",
   "execution_count": 19,
   "metadata": {},
   "outputs": [
    {
     "name": "stdout",
     "output_type": "stream",
     "text": [
      "[[1 0 0 0]\n",
      " [0 2 0 0]\n",
      " [0 0 3 0]\n",
      " [0 0 0 4]]\n",
      "\n",
      "[[ 0.19276014  0.44301316 -0.9628096  -0.11226372]\n",
      " [ 0.04835692  0.17726104 -0.53979723  0.39439163]\n",
      " [-1.39702971  0.86978011 -1.36018064 -0.59786492]\n",
      " [ 0.79357741 -0.18223092 -0.66779841 -0.40270643]]\n",
      "\n",
      "[ 0.19276014  0.17726104 -1.36018064 -0.40270643]\n"
     ]
    }
   ],
   "source": [
    "d = np.diag([1,2,3,4]) # diagonal with given elemnts. other o\n",
    "r = np.random.randn(4,4) # matrix\n",
    "\n",
    "# transpose matrix:\n",
    "r_diag = np.diag(r) # diagonal from r-matrix\n",
    "\n",
    "print(d)\n",
    "print()\n",
    "print(r)\n",
    "print()\n",
    "print(r_diag)\n"
   ]
  },
  {
   "cell_type": "markdown",
   "metadata": {},
   "source": [
    "### Unit-augmented matrix\n",
    "\n",
    "Join : \n",
    "$ A \\cup B$\n",
    "\n",
    "Zahl der Reihen gleich!"
   ]
  },
  {
   "cell_type": "code",
   "execution_count": 29,
   "metadata": {},
   "outputs": [
    {
     "name": "stdout",
     "output_type": "stream",
     "text": [
      "[[-0.4995236  -0.91354289  1.54606144 -0.33057287 -1.25658096]\n",
      " [-0.06978682 -0.24092443 -1.49457972 -0.16966077  0.95853238]\n",
      " [-0.86006175 -1.15053925 -1.04908613  0.66353289 -0.7350996 ]]\n",
      "\n",
      "[[ 0.1694846  -0.80421183  0.23156311 -0.26023938]\n",
      " [-1.63614844 -0.28975477 -0.69870192 -0.09761702]\n",
      " [-0.49756559 -0.67375251 -0.88829109 -0.45516737]]\n",
      "\n",
      "[[-0.4995236  -0.91354289  1.54606144 -0.33057287 -1.25658096  0.1694846\n",
      "  -0.80421183  0.23156311 -0.26023938]\n",
      " [-0.06978682 -0.24092443 -1.49457972 -0.16966077  0.95853238 -1.63614844\n",
      "  -0.28975477 -0.69870192 -0.09761702]\n",
      " [-0.86006175 -1.15053925 -1.04908613  0.66353289 -0.7350996  -0.49756559\n",
      "  -0.67375251 -0.88829109 -0.45516737]]\n"
     ]
    }
   ],
   "source": [
    "a = np.random.randn(3,5)\n",
    "b  =  np.random.randn(3,4)\n",
    "\n",
    "ab = np.concatenate((a,b), axis = 1) # stay in  raw by unit -> axis=1\n",
    "\n",
    "print(a)\n",
    "print()\n",
    "print(b)\n",
    "print()\n",
    "print(ab)"
   ]
  },
  {
   "cell_type": "markdown",
   "metadata": {},
   "source": [
    "### triangular"
   ]
  },
  {
   "cell_type": "code",
   "execution_count": 30,
   "metadata": {},
   "outputs": [
    {
     "name": "stdout",
     "output_type": "stream",
     "text": [
      "[[ 0.39885736 -0.24523175  1.07863768  0.83343194  0.04480939]\n",
      " [ 1.11836538 -0.34367301  2.22272756  1.37310865  0.10013035]\n",
      " [ 0.63430979  1.18386342  0.71394707  0.51452767  0.68173101]\n",
      " [ 1.15784657 -1.34512226 -2.28628551 -0.11681982  1.55911097]\n",
      " [ 0.5721716   1.3922714  -0.17713337  0.20802987  1.10188065]]\n",
      "[[ 0.39885736  0.          0.          0.          0.        ]\n",
      " [ 1.11836538 -0.34367301  0.          0.          0.        ]\n",
      " [ 0.63430979  1.18386342  0.71394707  0.          0.        ]\n",
      " [ 1.15784657 -1.34512226 -2.28628551 -0.11681982  0.        ]\n",
      " [ 0.5721716   1.3922714  -0.17713337  0.20802987  1.10188065]]\n",
      "\n",
      "[[ 0.39885736 -0.24523175  1.07863768  0.83343194  0.04480939]\n",
      " [ 0.         -0.34367301  2.22272756  1.37310865  0.10013035]\n",
      " [ 0.          0.          0.71394707  0.51452767  0.68173101]\n",
      " [ 0.          0.          0.         -0.11681982  1.55911097]\n",
      " [ 0.          0.          0.          0.          1.10188065]]\n"
     ]
    }
   ],
   "source": [
    "a = np.random.randn(5,5)\n",
    "print(a)\n",
    "\n",
    "#lower triangle\n",
    "l = np.tril(a)\n",
    "\n",
    "#upper triangle\n",
    "u = np.triu(a)\n",
    "\n",
    "print(l)\n",
    "print()\n",
    "print(u)\n"
   ]
  },
  {
   "cell_type": "markdown",
   "metadata": {},
   "source": [
    "### Hankel, Toeplitz\n",
    "\n"
   ]
  },
  {
   "cell_type": "code",
   "execution_count": 10,
   "metadata": {},
   "outputs": [
    {
     "name": "stdout",
     "output_type": "stream",
     "text": [
      "[[1 2 3 4]\n",
      " [2 3 4 0]\n",
      " [3 4 0 0]\n",
      " [4 0 0 0]]\n",
      "\n",
      "[[1 2 3 4]\n",
      " [2 3 4 3]\n",
      " [3 4 3 4]\n",
      " [4 3 4 1]]\n",
      "\n",
      "[[1 2 3 4]\n",
      " [2 1 2 3]\n",
      " [3 2 1 2]\n",
      " [4 3 2 1]]\n"
     ]
    }
   ],
   "source": [
    "t = np.array([1,2,3,4])\n",
    "#hankel\n",
    "hankel_ = linalg.hankel(t)\n",
    "#hankel wrap arround\n",
    "hankel_wrap_arround= linalg.hankel(t, r = [2,3,4,1])\n",
    "# toeplitz \n",
    "toeplitz_ = linalg.toeplitz(t)\n",
    "print(hankel_)\n",
    "print()\n",
    "print(hankel_wrap_arround)\n",
    "print()\n",
    "print(toeplitz_)"
   ]
  },
  {
   "cell_type": "markdown",
   "metadata": {},
   "source": [
    "### Addition, Scalar-multiplication\n",
    "\n",
    "**Shifting a matrix**\n",
    "\n",
    "$ A = A + \\lambda I $\n",
    "\n",
    "$ \\lambda $  - Scalar\n",
    "\n",
    "$I+A $ - Addition\n",
    "\n"
   ]
  },
  {
   "cell_type": "code",
   "execution_count": 15,
   "metadata": {},
   "outputs": [
    {
     "name": "stdout",
     "output_type": "stream",
     "text": [
      "[[ 0.47698683  0.67204242 -0.0119844  -0.5263337 ]\n",
      " [ 0.1246956  -1.01603441 -0.75304384  1.41816514]\n",
      " [-1.09777349  1.03747097  1.37438642 -0.74998418]\n",
      " [-0.21585634  1.23306431 -1.31149093 -0.81030647]]\n",
      "\n",
      "[[1. 0. 0. 0.]\n",
      " [0. 1. 0. 0.]\n",
      " [0. 0. 1. 0.]\n",
      " [0. 0. 0. 1.]]\n",
      "\n",
      "0.01\n",
      "\n",
      "Result: \n",
      "[[ 0.47698683  0.67204242 -0.0119844  -0.5263337 ]\n",
      " [ 0.1246956  -1.01603441 -0.75304384  1.41816514]\n",
      " [-1.09777349  1.03747097  1.37438642 -0.74998418]\n",
      " [-0.21585634  1.23306431 -1.31149093 -0.81030647]]\n"
     ]
    }
   ],
   "source": [
    "scalar = .01\n",
    "\n",
    "m1 = np.eye(4)\n",
    "m2 = np.random.randn(4,4)\n",
    "\n",
    "m2 = m2 + scalar*m1\n",
    "\n",
    "print(m2)\n",
    "print()\n",
    "print(m1)\n",
    "print()\n",
    "print(scalar)\n",
    "print()\n",
    "print(\"Result: \")\n",
    "print(m2)"
   ]
  },
  {
   "cell_type": "code",
   "execution_count": null,
   "metadata": {},
   "outputs": [],
   "source": []
  }
 ],
 "metadata": {
  "kernelspec": {
   "display_name": "Python 3.9.12 ('musda')",
   "language": "python",
   "name": "python3"
  },
  "language_info": {
   "codemirror_mode": {
    "name": "ipython",
    "version": 3
   },
   "file_extension": ".py",
   "mimetype": "text/x-python",
   "name": "python",
   "nbconvert_exporter": "python",
   "pygments_lexer": "ipython3",
   "version": "3.9.12"
  },
  "orig_nbformat": 4,
  "vscode": {
   "interpreter": {
    "hash": "429f2fb3099a1d06ac4a0a3294bf37318abad212278278ecdd3cbb1177cfb66c"
   }
  }
 },
 "nbformat": 4,
 "nbformat_minor": 2
}
