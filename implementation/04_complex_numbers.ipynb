{
 "cells": [
  {
   "cell_type": "code",
   "execution_count": 2,
   "metadata": {},
   "outputs": [],
   "source": [
    "import numpy as np\n",
    "import matplotlib.pyplot as plt\n"
   ]
  },
  {
   "cell_type": "markdown",
   "metadata": {},
   "source": [
    "# Complex numbers \n",
    "\n",
    "$\\mathbb{C}$- komplexe Zahl = $z$\n",
    "\n",
    "Imaginary unit $i$\n",
    "\n",
    "$\\Im(z)$ *Imaginary Teil- imaginary Sinusoid(sin(x))*\n",
    "\n",
    "$\\Re(z)$ *Real Teil-real Sinusoid(cos(x))*\n",
    "\n",
    "$\\overline z$ - *conjugate*\n",
    "\n",
    "$|z|$ - magnitude (absolute value von komplexezahl)\n",
    "\n",
    "$arg(z)$-argument (angle,phase)"
   ]
  },
  {
   "cell_type": "markdown",
   "metadata": {},
   "source": [
    "## In cartesian coordinates:\n",
    "\n",
    "$ z = a + i\\cdot b $"
   ]
  },
  {
   "cell_type": "code",
   "execution_count": 10,
   "metadata": {},
   "outputs": [
    {
     "name": "stdout",
     "output_type": "stream",
     "text": [
      "(3+4j)\n",
      "[0.+0.j 0.+0.j]\n"
     ]
    }
   ],
   "source": [
    "z = complex(3,4)\n",
    "x = np.zeros(2, dtype = complex)\n",
    "print(z)\n",
    "print(x)"
   ]
  },
  {
   "cell_type": "code",
   "execution_count": 3,
   "metadata": {},
   "outputs": [
    {
     "name": "stdout",
     "output_type": "stream",
     "text": [
      "a (1+2j) \n",
      "\n",
      "(1.5+0.5j) \n",
      "\n",
      "(2.5+2.5j)\n"
     ]
    },
    {
     "data": {
      "image/png": "[encoded data removed]",
      "text/plain": [
       "<Figure size 324x324 with 1 Axes>"
      ]
     },
     "metadata": {
      "needs_background": "light"
     },
     "output_type": "display_data"
    }
   ],
   "source": [
    "a = 1 + 2 * 1j\n",
    "b = 1.5 + 0.5 * 1j\n",
    "print(\"a\" ,a, '\\n')\n",
    "print(b, '\\n')\n",
    "sum_ = a + b\n",
    "print(sum_)\n",
    "\n",
    "\n",
    "plt.figure(figsize=(4.5, 4.5))\n",
    "\n",
    "#y achse\n",
    "plt.plot( np.linspace(-0.5, 4), np.zeros(50), color=[0, 0, 0, 1])\n",
    "\n",
    "#x achse\n",
    "plt.plot(np.zeros(50), np.linspace(-0.5, 4), color=[0, 0, 0, 1])\n",
    "\n",
    "plt.plot([np.real(a)], [np.imag(a)], 'o', color=[0.5, 0.5, 1, 1])\n",
    "plt.plot([np.real(b)], [np.imag(b)], 'o', color=[1, 0.5, 0, 1])\n",
    "plt.plot([np.real(sum_)], [np.imag(sum_)], 'o', color=[0, 1, 0, 1])\n",
    "\n",
    "\n",
    "plt.xlim(-0.5, 4)\n",
    "plt.ylim(-0.5, 4)\n",
    "plt.grid()\n",
    "\n",
    "plt.show()"
   ]
  },
  {
   "cell_type": "markdown",
   "metadata": {},
   "source": [
    "### Complex Vector "
   ]
  },
  {
   "cell_type": "code",
   "execution_count": 3,
   "metadata": {},
   "outputs": [
    {
     "name": "stdout",
     "output_type": "stream",
     "text": [
      "[-1  1  0]\n",
      "[ 2  2 -2]\n",
      "[-1.+2.j  1.+2.j  0.-2.j]\n"
     ]
    }
   ],
   "source": [
    "a = np.random.randint(-3,3,size=3) # generate array from -3 till 3 of 3 integers(!)\n",
    "b = np.random.randint(-3,3,size=3)\n",
    "print(a)\n",
    "print(b)\n",
    "z = a+b*1j\n",
    "print(z)"
   ]
  },
  {
   "cell_type": "markdown",
   "metadata": {},
   "source": [
    "### Conjugate \n",
    "\n",
    "$ \\bar z $\n",
    "\n",
    "$ \\bar z = a -b\\cdot i $"
   ]
  },
  {
   "cell_type": "code",
   "execution_count": 16,
   "metadata": {},
   "outputs": [
    {
     "name": "stdout",
     "output_type": "stream",
     "text": [
      "[-2.-1.j  1.+2.j  1.-1.j]\n"
     ]
    }
   ],
   "source": [
    "print(z.conjugate())\n"
   ]
  },
  {
   "cell_type": "markdown",
   "metadata": {},
   "source": [
    "### Addition "
   ]
  },
  {
   "cell_type": "code",
   "execution_count": 18,
   "metadata": {},
   "outputs": [
    {
     "name": "stdout",
     "output_type": "stream",
     "text": [
      "(-3-6j)\n",
      "(5+10j)\n"
     ]
    }
   ],
   "source": [
    "z1 = complex(1,2)\n",
    "z2 = complex(-4,-8)\n",
    "print(z1+z2)\n",
    "print(z1-z2)"
   ]
  },
  {
   "cell_type": "markdown",
   "metadata": {},
   "source": [
    "### Multiplication"
   ]
  },
  {
   "cell_type": "code",
   "execution_count": 24,
   "metadata": {},
   "outputs": [
    {
     "name": "stdout",
     "output_type": "stream",
     "text": [
      "(12-16j)\n"
     ]
    }
   ],
   "source": [
    "print(z1 * z2)"
   ]
  },
  {
   "cell_type": "markdown",
   "metadata": {},
   "source": [
    "### Absolute Wert = Radius\n",
    "\n",
    "$|c| = \\sqrt{a^2 + b^2}$\n",
    "\n",
    "`np.abc`"
   ]
  },
  {
   "cell_type": "code",
   "execution_count": 35,
   "metadata": {},
   "outputs": [
    {
     "name": "stdout",
     "output_type": "stream",
     "text": [
      "5.830951894845301\n"
     ]
    }
   ],
   "source": [
    "z = complex(3,5)\n",
    "a = np.real(z)\n",
    "b = np.imag(z)\n",
    "\n",
    "r = np.sqrt(a**2 + b**2)\n",
    "\n",
    "print(r)"
   ]
  },
  {
   "cell_type": "code",
   "execution_count": 36,
   "metadata": {},
   "outputs": [
    {
     "name": "stdout",
     "output_type": "stream",
     "text": [
      "5.830951894845301\n"
     ]
    }
   ],
   "source": [
    "r= np.abs(z)\n",
    "print(r)"
   ]
  },
  {
   "cell_type": "markdown",
   "metadata": {},
   "source": [
    "### Winkel\n",
    "\n",
    "\n",
    "$\\tan(\\phi)=\\frac{b}{a}$\n",
    "\n",
    "$\\phi=\\arctan(\\frac{b}{a})$\n",
    "\n",
    "`np.arctan(b/a)`\n",
    "\n",
    "oder:\n",
    "\n",
    "$\\phi =\\operatorname {\\arctan2} \\left(\\operatorname {Im} (z),\\operatorname {Re} (z)\\right).$\n",
    "\n",
    "<br/>\n",
    "\n",
    "$\\arctan2(x,y)\n",
    "\\mapsto\t\n",
    "{\\begin{cases}\n",
    "    \\arctan \\left(\\tfrac{y}{x} \\right) && x > 0\\\\\n",
    "    \\arctan \\left(\\tfrac{y}{x} \\right) + \\pi && x < 0,\\ y > 0\\\\\n",
    "    \\displaystyle \\pm \\pi && x < 0,\\ y = 0\\\\\n",
    "    \\arctan \\left(\\tfrac{y}{x} \\right) - \\pi && x < 0,\\ y < 0\\\\\n",
    "    +\\tfrac{\\pi}{2} && x = 0,\\ y > 0\\\\\n",
    "    -\\tfrac{\\pi}{2} && x = 0,\\ y < 0\n",
    "\\end{cases}}$\n",
    "\n",
    "`np.arctan2(a,b)`"
   ]
  },
  {
   "cell_type": "code",
   "execution_count": 34,
   "metadata": {},
   "outputs": [
    {
     "name": "stdout",
     "output_type": "stream",
     "text": [
      "1.0303768265243125\n"
     ]
    }
   ],
   "source": [
    "winkel = np.arctan(b/a)\n",
    "print(winkel)"
   ]
  },
  {
   "cell_type": "code",
   "execution_count": 32,
   "metadata": {},
   "outputs": [
    {
     "name": "stdout",
     "output_type": "stream",
     "text": [
      "1.0303768265243125\n"
     ]
    }
   ],
   "source": [
    "winkel = np.arctan2(b,a)\n",
    "print(winkel)"
   ]
  },
  {
   "cell_type": "markdown",
   "metadata": {},
   "source": [
    "## In Polar Coordinate\n",
    "\n",
    "$ z = r e ^{i\\theta} $\n",
    "\n",
    "$ \\bar z = r e^{-i\\theta}$"
   ]
  },
  {
   "cell_type": "code",
   "execution_count": 37,
   "metadata": {},
   "outputs": [
    {
     "name": "stdout",
     "output_type": "stream",
     "text": [
      "(3.0000000000000004+5j)\n"
     ]
    }
   ],
   "source": [
    "z = r * np.power(np.e, winkel*1j)\n",
    "print(z)"
   ]
  },
  {
   "cell_type": "markdown",
   "metadata": {},
   "source": [
    "## E-number\n",
    "\n",
    "$e -number$ "
   ]
  },
  {
   "cell_type": "markdown",
   "metadata": {},
   "source": [
    "### Dot product of complex vectors"
   ]
  },
  {
   "cell_type": "code",
   "execution_count": 25,
   "metadata": {},
   "outputs": [
    {
     "name": "stdout",
     "output_type": "stream",
     "text": [
      "[0.+0.j 0.+1.j]\n",
      "[ 0.+0.j -1.+0.j]\n",
      "(-1+0j)\n",
      "(1+0j)\n"
     ]
    }
   ],
   "source": [
    "v = np.array([0, 1j])\n",
    "print(v)\n",
    "\n",
    "print(v*v) # multiplication\n",
    "print(np.dot(v,v))\n",
    "print(np.vdot(v,v))"
   ]
  },
  {
   "cell_type": "markdown",
   "metadata": {},
   "source": [
    "# Fibonacci \n"
   ]
  },
  {
   "cell_type": "markdown",
   "metadata": {},
   "source": [
    "\n",
    "## Gloden Ratio\n",
    "\n",
    "*Phi* $\\phi$\n",
    "\n",
    "*Varphi* $\\varphi$ "
   ]
  },
  {
   "cell_type": "markdown",
   "metadata": {},
   "source": []
  }
 ],
 "metadata": {
  "kernelspec": {
   "display_name": "Python 3.9.12 ('musda')",
   "language": "python",
   "name": "python3"
  },
  "language_info": {
   "codemirror_mode": {
    "name": "ipython",
    "version": 3
   },
   "file_extension": ".py",
   "mimetype": "text/x-python",
   "name": "python",
   "nbconvert_exporter": "python",
   "pygments_lexer": "ipython3",
   "version": "3.9.12"
  },
  "orig_nbformat": 4,
  "vscode": {
   "interpreter": {
    "hash": "429f2fb3099a1d06ac4a0a3294bf37318abad212278278ecdd3cbb1177cfb66c"
   }
  }
 },
 "nbformat": 4,
 "nbformat_minor": 2
}
