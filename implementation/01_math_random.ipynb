{
 "cells": [
  {
   "cell_type": "code",
   "execution_count": 31,
   "metadata": {},
   "outputs": [],
   "source": [
    "import math\n",
    "import random\n",
    "import numpy as np\n",
    "import matplotlib.pyplot as plt\n",
    "from fractions import Fraction as frac"
   ]
  },
  {
   "cell_type": "markdown",
   "metadata": {},
   "source": [
    "# 1. Mathematik\n",
    "\n",
    "Deutsch(norm), *English(kursiv)*\n",
    "\n",
    "*Exploration in Markdown* -> $LaTex$ \n",
    "\n",
    "*Implementation in computer* -> **DataType**\n",
    "\n",
    "*Implementation in Python* --> `function()` or `bool`\n",
    "\n",
    "*Visualitation in Python* --> matplotlib.pyplot module `plt.function()`\n",
    "\n",
    "In Python implementieren:\n",
    "1. *Biuldin functions in python*\n",
    "2. *math module*\n",
    "3. *numpy module*\n",
    "4. *skipy module*\n",
    "5. *fractions module*\n"
   ]
  },
  {
   "cell_type": "markdown",
   "metadata": {},
   "source": [
    "### Gleichung:\n",
    "\n",
    "$a\\approx b$ \n",
    "\n",
    "$ [a] $ -round\n",
    "\n",
    "$ \\lceil a \\rceil $ -ceil\n",
    "\n",
    "$ \\lfloor a \\rfloor $ - floor\n",
    "\n",
    "\n",
    "input **float** $\\rightarrow$ **function** `round()`,`math.ceil()`, `math.floor()` $\\rightarrow$ output **integer** $\\mathbb{Z}$\n",
    "\n",
    "input **float,array** $\\rightarrow$ **function** `np.round()`,`np.around()`,`np.ceil()`, `np.floor()` $\\rightarrow$ output **float,array** $\\mathbb{Q}$\n",
    "\n",
    "$a = b $ $\\rightarrow$  **boolien operators** `a == b ` $\\rightarrow$ output `True`(`1`) or `False`(`0`)\n",
    "\n",
    "$a \\neq b$ $\\rightarrow$ **bool** `a!=b` $\\rightarrow$ output `True`(`1`) or `False`(`0`)\n",
    "\n",
    "$a<b$ $\\rightarrow$ **bool** `a<b` $\\rightarrow$ output `True`(`1`) or `False`(`0`)\n",
    "\n",
    "$a>b$ $\\rightarrow$ **bool** `a>b` $\\rightarrow$ output `True`(`1`) or `False`(`0`)\n",
    "\n",
    "$a≥b$ $\\rightarrow$ **bool** `a>=b` $\\rightarrow$ output `True`(`1`) or `False`(`0`)\n",
    "\n",
    "$a≤b$ $\\rightarrow$ **bool** `a<=b` $\\rightarrow$ output `True`(`1`) or `False`(`0`)\n",
    "\n",
    "\n"
   ]
  },
  {
   "cell_type": "code",
   "execution_count": 26,
   "metadata": {},
   "outputs": [
    {
     "name": "stdout",
     "output_type": "stream",
     "text": [
      "<class 'int'> -5\n",
      "-6\n",
      "<class 'int'> -6\n",
      "\n",
      "<class 'numpy.float64'>\n",
      "-4.0\n",
      "-3.0\n",
      "\n",
      "False\n",
      "True\n",
      "False\n",
      "True\n",
      "True\n",
      "False\n"
     ]
    }
   ],
   "source": [
    "\n",
    "b=-5.87\n",
    "print(type(math.ceil(b)),math.ceil(b)) # round to up\n",
    "print(math.floor(b)) # round to down\n",
    "print(type(round(b)),round(b))\n",
    "\n",
    "print()\n",
    "a = - 3.14\n",
    "print(type(np.ceil(a))) # round to up\n",
    "print(np.floor(a))\n",
    "print(np.round(a))\n",
    "print()\n",
    "print(a==b)\n",
    "print(a!=b)\n",
    "print(a<b)\n",
    "print(a>b)\n",
    "print(a>=b)\n",
    "print(a<=b)"
   ]
  },
  {
   "cell_type": "markdown",
   "metadata": {},
   "source": [
    "### Operationen:\n",
    "\n",
    "Addition:\n",
    "\n",
    "$a + b$ $\\to$ **bool** `+` $\\to$ output as input\n",
    "\n",
    "Subtraction:\n",
    "\n",
    "$a - b$ $\\to$ **bool** `-` $\\to$ output as input\n",
    "\n",
    "Multiplikation:\n",
    "\n",
    "$a \\cdot b$ $\\to $ **function** `*` $\\to$ output $\\mathbb{Q}$\n",
    "\n",
    "$a \\cdot b$ $\\to $ **function** `np.multiply()` $\\to$ output $\\mathbb{Q}$\n",
    "\n",
    "Division:\n",
    "\n",
    "$a : b$ ,$a \\div b$  $\\to $ **function** `/` $\\to$ output $\\mathbb{Q}$\n",
    "\n",
    "\n"
   ]
  },
  {
   "cell_type": "code",
   "execution_count": 28,
   "metadata": {},
   "outputs": [
    {
     "name": "stdout",
     "output_type": "stream",
     "text": [
      "<class 'float'> 0.5\n"
     ]
    }
   ],
   "source": [
    "addition =2.3+3.5\n",
    "div=3/6\n",
    "\n",
    "print(type(div), div)"
   ]
  },
  {
   "cell_type": "markdown",
   "metadata": {},
   "source": [
    "\n",
    "### Fraction/Ratio\n",
    "\n",
    "$a / b$ , $ \\frac{a}{b}$ \n",
    "\n",
    "input **number** $\\mathbb{Q}$  $\\to$ **function** `frac()` $\\to$ **fraction** `int/int` $\\mathbb{Z}$\n",
    "\n",
    "Percentage- Ratio in Fraction of 100\n",
    "\n",
    "$ a \\% b $ "
   ]
  },
  {
   "cell_type": "code",
   "execution_count": 89,
   "metadata": {},
   "outputs": [
    {
     "name": "stdout",
     "output_type": "stream",
     "text": [
      "4803839602528529/4503599627370496\n",
      "16/15 <class 'fractions.Fraction'>\n",
      "16.0\n"
     ]
    }
   ],
   "source": [
    "fract= frac(16/15)\n",
    "print(fract)\n",
    "fract_lim=frac(16/15).limit_denominator(100)\n",
    "print(fract_lim,type(fract_lim))\n"
   ]
  },
  {
   "cell_type": "markdown",
   "metadata": {},
   "source": [
    "## Betrag *Absolute value*\n",
    "\n",
    "$ \\vert a \\vert $ \n",
    "\n",
    "input **number** --> **function** `abs()`, `math.fabc()`, `np.abs()` $\\to$ output **number**$\\mathbb{Q}$\n",
    "\n",
    "input **array** --> **function** `np.abs()` $\\to$ output **array**\n"
   ]
  },
  {
   "cell_type": "code",
   "execution_count": 70,
   "metadata": {},
   "outputs": [
    {
     "name": "stdout",
     "output_type": "stream",
     "text": [
      "34\n",
      "3.45\n",
      "3.45\n",
      "[ 3  3 64]\n"
     ]
    }
   ],
   "source": [
    "b = -34\n",
    "c = -3.45\n",
    "x = np.array([-3,3,64])\n",
    "\n",
    "print(abs(b)) # absolute value\n",
    "print(abs(c))\n",
    "print(math.fabs(c))\n",
    "\n",
    "print(np.abs(x))"
   ]
  },
  {
   "cell_type": "markdown",
   "metadata": {},
   "source": [
    "## *Exponention*\n",
    "\n",
    "Potenz/*power*:\n",
    "\n",
    "$ a^n = b $ \n",
    "\n",
    "a= base, n=power, b = exponent\n",
    "\n",
    "input **number** $\\mathbb{Q}$  $\\to$ **function** `pow(base,exponent)`, $\\to$ output as input **number** $\\mathbb{Q}$\n",
    "\n",
    "input **array,number**  $\\to$ **function** `np.power(base,exponent)`, $\\to$ output as input **array,number** \n",
    "\n",
    "Wurzel/*root*:\n",
    "\n",
    "$\\sqrt[n]{b} = a $ \n",
    "\n",
    "Quadratwurzel,*Squere root*: \n",
    "\n",
    "$\\sqrt {b}=a $  , $\\sqrt[2]{b} = a $\n",
    "\n",
    "input **number** $\\mathbb{Q}$ $\\to$ **function** `math.sqrt()` $\\to$ output **number** $\\mathbb{Q}$\n",
    "\n",
    "input **number,array** $\\mathbb{Q}$ $\\to$ **function** `np.sqrt()` $\\to$ output **number,array** $\\mathbb{Q}$\n",
    "\n",
    "Qubikwurzel,*Cubic root*: \n",
    "\n",
    " $\\sqrt[3]{b} = a $\n",
    "\n",
    "input **number,array** $\\mathbb{Q}$ $\\to$ **function** `np.cbrt()` $\\to$ output **number,array** $\\mathbb{Q}$\n",
    "\n",
    "Logarithmus/*logarithm*\n",
    "\n",
    "$\\log_a b = n$\n",
    "\n",
    "\n",
    " $a = 2$  \n",
    " \n",
    "$\\log_2 b $ (binäre,duale)\n",
    "\n",
    "$a = 10$   \n",
    "\n",
    " $\\lg b = \\log_{10} b$,(decadishe) \n",
    "\n",
    "exponent function:\n",
    "\n",
    "**Irationale number,constant** `np.e`, $e \\in \\mathbb{R}$ \n",
    "\n",
    "$a = e$  \n",
    "\n",
    "$\\ln b  = \\log_e b$ (natürliche)\n"
   ]
  },
  {
   "cell_type": "code",
   "execution_count": 63,
   "metadata": {},
   "outputs": [
    {
     "name": "stdout",
     "output_type": "stream",
     "text": [
      "16\n",
      "[ 1.728 12.167 39.304]\n",
      "\n",
      "4.47213595499958\n",
      "[1.09544512 1.51657509 1.84390889]\n",
      "[1.06265857 1.32000612 1.5036946 ]\n",
      "\n",
      "2.6020599913279625\n",
      "3.0\n",
      "2.4849066497880004\n"
     ]
    }
   ],
   "source": [
    "x = np.array([1.2,2.3,3.4]) #array\n",
    "\n",
    "print(pow(2,4)) #num\n",
    "print(np.power(x,3))\n",
    "\n",
    "print()\n",
    "print(math.sqrt(20))\n",
    "print(np.sqrt(x))\n",
    "print(np.cbrt(x))\n",
    "print()\n",
    "\n",
    "print(math.log10(400))\n",
    "print(math.log2(8))\n",
    "print(math.log(12))"
   ]
  },
  {
   "cell_type": "markdown",
   "metadata": {},
   "source": [
    "## Folge,Reihe *Sequence*\n",
    "\n",
    "Folge:\n",
    "\n",
    " $(a_n)= , n \\in \\mathbb{N}$  **integer**  \n",
    "\n",
    "Reihe: \n",
    "\n",
    "$a_n, a_{n+1}, ... a_N$\n",
    "\n",
    "Folge:\n",
    "$(a_n)_{n=0}^{\\infty}$ \n",
    "\n",
    " **function** `np.array([])`, `np.linspace()`, `np.arange()` $\\to$ output **array** $\\in \\mathbb{Q}$\n",
    "\n",
    " "
   ]
  },
  {
   "cell_type": "code",
   "execution_count": 65,
   "metadata": {},
   "outputs": [
    {
     "name": "stdout",
     "output_type": "stream",
     "text": [
      "[1 2 3 4]\n",
      "[ 1.    3.25  5.5   7.75 10.  ]\n",
      "[ 1  4  7 10 13 16 19]\n"
     ]
    }
   ],
   "source": [
    "print(np.array([1,2,3,4]))\n",
    "print(np.linspace(1,10,5))\n",
    "print(np.arange(1,20,3))"
   ]
  },
  {
   "cell_type": "markdown",
   "metadata": {},
   "source": [
    "## Limits\n",
    "\n",
    "limit of Function:\n",
    "\n",
    "$\\lim_{x\\to +\\infty} f(x) $\n",
    "\n",
    "$$\\lim_{x\\to -\\infty} f(x)$$\n",
    "\n",
    "$$\\lim_{x\\to 0} f(x)$$"
   ]
  },
  {
   "cell_type": "code",
   "execution_count": null,
   "metadata": {},
   "outputs": [],
   "source": []
  },
  {
   "cell_type": "markdown",
   "metadata": {},
   "source": [
    "## Summe\n",
    "\n",
    "$\\sum\\limits_{n=1}^N a_n$ \n",
    "\n",
    "$$\\sum_{n=1}^N a_n$$\n",
    "\n",
    "input **array,number** $\\mathbb{Q}$ $\\to$  **function** `np.sum()`$\\to$ output **array,number** $\\mathbb{Q}$"
   ]
  },
  {
   "cell_type": "code",
   "execution_count": 86,
   "metadata": {},
   "outputs": [
    {
     "name": "stdout",
     "output_type": "stream",
     "text": [
      "3\n",
      "26\n"
     ]
    }
   ],
   "source": [
    "print(np.sum([1,2]))\n",
    "\n",
    "a= np.array([1,4,6,15])\n",
    "print(np.sum(a))\n"
   ]
  },
  {
   "cell_type": "markdown",
   "metadata": {},
   "source": [
    "## Product \n",
    "\n",
    "$\\prod\\limits_{n=1}^N a_n$\n",
    "\n",
    "$$\\prod_{n=1}^N a_n$$\n",
    "\n",
    "### Scalar, Number : \n",
    "\n",
    "input **number** $\\mathbb{Q}$ $\\to$ **function** `np.multiply()` $\\to$ output **number** $\\mathbb{Q}$\n",
    "\n",
    "input **array** $\\mathbb{Q}$ $\\to$ **function** `np.multiply()` elementweise! $\\to$ output **array!** $\\mathbb{Q}$\n",
    "\n",
    "### Vector $ \\vec v $\n",
    "\n",
    "dot product, inner product : \n",
    "\n",
    "input **1-d array** $\\to$ **function** `np.dot()` --> output **number!** $\\mathbb{Q}$\n",
    "\n",
    "cross product,  Outer product:\n",
    "\n",
    "input **1-d array** $\\to$ **function** `np.outer()` --> output **2-d array!** $matrix$\n",
    "\n",
    "\n",
    "\n",
    "### Matrix\n",
    "\n",
    "dot product, inner product : \n",
    "\n",
    "input **2-d array** $\\to$ **function** `np.dot()` --> output **2-d array**\n",
    "\n",
    "cross product,  Outer product:\n",
    "\n",
    "input **2-d array** $\\to$ **function** `np.outer()` --> output **2-d array**"
   ]
  },
  {
   "cell_type": "code",
   "execution_count": 77,
   "metadata": {},
   "outputs": [
    {
     "name": "stdout",
     "output_type": "stream",
     "text": [
      "8\n",
      "[ 8  5  0 14]\n",
      "27\n",
      "[[ 8  2  0  4]\n",
      " [20  5  0 10]\n",
      " [16  4  0  8]\n",
      " [28  7  0 14]]\n"
     ]
    }
   ],
   "source": [
    "v1 = np.array([2,5,4,7])\n",
    "v2 = np.array ([4,1,0,2])\n",
    "\n",
    "print(np.multiply(2,4))\n",
    "print(np.multiply(v1,v2))\n",
    "\n",
    "\n",
    "print(np.dot(v1,v2))\n",
    "print(np.outer(v1,v2))\n"
   ]
  },
  {
   "cell_type": "code",
   "execution_count": 90,
   "metadata": {},
   "outputs": [
    {
     "name": "stdout",
     "output_type": "stream",
     "text": [
      "[[-1.38344038  1.69262172 -0.57730663 -0.5601276   1.0769295 ]\n",
      " [-1.16479605 -0.2605436   0.976977   -0.53262337  0.4175798 ]]\n",
      "\n",
      "[[-1.45807219 -2.77399257]\n",
      " [-0.65078109 -0.84688835]\n",
      " [-0.38178608  0.37436168]\n",
      " [-1.60036722 -1.44853992]\n",
      " [-0.69397899  0.5716141 ]]\n",
      "\n",
      "[[-1.95029396 -2.56074689 -1.08803821 -0.86422654 -0.45228359 -0.22877077\n",
      "  -1.70613014 -1.14113632  1.33708728  1.02595033 -0.20595521  1.92748116]\n",
      " [ 2.38615986  3.13304127  1.33120092  1.05737019  0.55336322  0.27989813\n",
      "   2.08742853  1.39616578 -1.63590929 -1.25523718  0.25198358 -2.3582487 ]\n",
      " [-0.81385338 -1.06859405 -0.45403595 -0.36063984 -0.18873695 -0.09546554\n",
      "  -0.71196436 -0.47619368  0.55796358  0.42812682 -0.08594466  0.80433365]\n",
      " [-0.78963538 -1.03679568 -0.44052511 -0.3499082  -0.18312066 -0.09262475\n",
      "  -0.69077829 -0.46202349  0.54136015  0.41538696 -0.08338718  0.78039893]\n",
      " [ 1.51819272  1.99339554  0.84697575  0.67275112  0.352077    0.17808501\n",
      "   1.3281251   0.8883096  -1.04084626 -0.79864387  0.16032439 -1.50043426]\n",
      " [-1.64206187 -2.15603644 -0.9160804  -0.7276408  -0.38080292 -0.19261494\n",
      "  -1.43648666 -0.96078668  1.12576878  0.86380513 -0.17340524  1.6228545 ]\n",
      " [-0.36729925 -0.48226597 -0.20491045 -0.16275996 -0.08517866 -0.04308444\n",
      "  -0.32131583 -0.21491043  0.25181391  0.19321743 -0.03878759  0.36300291]\n",
      " [ 1.37728547  1.80838354  0.76836582  0.61031141  0.31939986  0.1615565\n",
      "   1.2048585   0.80586338 -0.94424273 -0.72451975  0.14544429 -1.36117522]\n",
      " [-0.75086152 -0.98588538 -0.41889379 -0.33272648 -0.1741288  -0.08807655\n",
      "  -0.65685865 -0.43933651  0.51477747  0.39499    -0.07929258  0.74207861]\n",
      " [ 0.58867976  0.77293983  0.32841515  0.26085948  0.13651798  0.06905253\n",
      "   0.51498097  0.34444236 -0.4035885  -0.30967444  0.06216584 -0.58179391]]\n"
     ]
    }
   ],
   "source": [
    "m1 = np.random.randn(2,5)\n",
    "m2 = np.random.randn(5,2)\n",
    "m3= np.random.randn(3,4)\n",
    "\n",
    "print(m1)\n",
    "print()\n",
    "print(m2)\n",
    "print()\n",
    "#print(np.dot(m1,m2))\n",
    "print(np.outer(m1,m3))"
   ]
  },
  {
   "cell_type": "markdown",
   "metadata": {},
   "source": [
    "## Polynomial"
   ]
  },
  {
   "cell_type": "code",
   "execution_count": null,
   "metadata": {},
   "outputs": [],
   "source": []
  },
  {
   "cell_type": "markdown",
   "metadata": {},
   "source": [
    "### Coefficient\n",
    "\n",
    "binomial coefficiant  $\\binom n k $\n",
    "\n",
    "factorial $n!$"
   ]
  },
  {
   "cell_type": "markdown",
   "metadata": {},
   "source": [
    "## *Unit circle*\n",
    " \n",
    "$ \\pi $  --> **function** `math.pi` ,  `np.pi`--> output **float** constant\n",
    "  "
   ]
  },
  {
   "cell_type": "code",
   "execution_count": 10,
   "metadata": {},
   "outputs": [
    {
     "name": "stdout",
     "output_type": "stream",
     "text": [
      "3.141592653589793\n",
      "PI is 3.14\n"
     ]
    }
   ],
   "source": [
    "pi_= math.pi\n",
    "pi_=np.pi\n",
    "print(pi_)\n",
    "print(f\"PI is {pi_:.2f}\")"
   ]
  },
  {
   "cell_type": "markdown",
   "metadata": {},
   "source": [
    "## Min and Max\n",
    "\n",
    "$\\min$\n",
    "\n",
    "$\\max$\n",
    "\n"
   ]
  },
  {
   "cell_type": "code",
   "execution_count": 34,
   "metadata": {},
   "outputs": [
    {
     "name": "stdout",
     "output_type": "stream",
     "text": [
      "2\n",
      "4\n"
     ]
    }
   ],
   "source": [
    "x = 2\n",
    "y = 3\n",
    "z = 4\n",
    "print(min(x, y, z))\n",
    "print(max(x, y, z))"
   ]
  },
  {
   "cell_type": "markdown",
   "metadata": {},
   "source": [
    "# Random "
   ]
  },
  {
   "cell_type": "code",
   "execution_count": 102,
   "metadata": {},
   "outputs": [
    {
     "name": "stdout",
     "output_type": "stream",
     "text": [
      "0.540361812294099\n",
      "72\n",
      "-1.3233794668779055\n"
     ]
    }
   ],
   "source": [
    "#gives any number 0-1\n",
    "x =random.random() \n",
    "\n",
    "#retun any int in range\n",
    "y = random.randint(2,89)\n",
    "\n",
    "#any number\n",
    "b = np.random.randn()\n",
    "\n",
    "\n",
    "print(x)\n",
    "print(y)\n",
    "print(b)"
   ]
  },
  {
   "cell_type": "code",
   "execution_count": 96,
   "metadata": {},
   "outputs": [
    {
     "name": "stdout",
     "output_type": "stream",
     "text": [
      "[-1.26903647  0.75436172]\n",
      "\n",
      "[[-0.31264255  0.77652316  0.79521489  0.86956593]\n",
      " [ 0.32730623  0.27833177 -0.19675496 -0.59088549]]\n"
     ]
    }
   ],
   "source": [
    "\n",
    "#vector\n",
    "print(np.random.randn(2))\n",
    "print()\n",
    "#matrix 2-d\n",
    "print(np.random.randn(2,4))\n"
   ]
  },
  {
   "cell_type": "code",
   "execution_count": 97,
   "metadata": {},
   "outputs": [
    {
     "name": "stdout",
     "output_type": "stream",
     "text": [
      "[[[ 0.41662009  1.55392377 -0.21836108]\n",
      "  [-0.76785325  0.38755233 -1.36191683]\n",
      "  [-0.71115364 -1.0180072   0.81776521]\n",
      "  [ 0.21820659  1.00431647 -0.30568904]]\n",
      "\n",
      " [[-0.74973994 -1.22327395  0.06500939]\n",
      "  [ 0.51139733 -0.05192831  3.3649887 ]\n",
      "  [-1.51732304 -1.67389903  0.63609955]\n",
      "  [ 0.31400008  0.04240569 -0.84970516]]]\n"
     ]
    }
   ],
   "source": [
    "\n",
    "#matrix 3-d\n",
    "print(np.random.randn(2,4,3))"
   ]
  },
  {
   "cell_type": "code",
   "execution_count": null,
   "metadata": {},
   "outputs": [],
   "source": []
  }
 ],
 "metadata": {
  "interpreter": {
   "hash": "c8c7d4901aa86a72b4e4342bf1eb5d98bfe197cab40e28b58cecccc59f66f213"
  },
  "kernelspec": {
   "display_name": "Python 3.8.10 ('base')",
   "language": "python",
   "name": "python3"
  },
  "language_info": {
   "codemirror_mode": {
    "name": "ipython",
    "version": 3
   },
   "file_extension": ".py",
   "mimetype": "text/x-python",
   "name": "python",
   "nbconvert_exporter": "python",
   "pygments_lexer": "ipython3",
   "version": "3.8.10"
  },
  "orig_nbformat": 4
 },
 "nbformat": 4,
 "nbformat_minor": 2
}
