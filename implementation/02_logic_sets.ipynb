{
 "cells": [
  {
   "cell_type": "code",
   "execution_count": 1,
   "metadata": {},
   "outputs": [],
   "source": [
    "import numpy as np\n",
    "import math\n",
    "import random\n",
    "import matplotlib.pyplot as plt"
   ]
  },
  {
   "cell_type": "markdown",
   "metadata": {},
   "source": [
    "## Logic and Boolean Data Str\n",
    "\n",
    "### Logical gates\n",
    "\n",
    "1 = True =  $\\top$  \n",
    "0 = False  = $\\bot$  \n",
    "a,b = input -> Boolean variable \n"
   ]
  },
  {
   "cell_type": "markdown",
   "metadata": {},
   "source": [
    "\n",
    "### logical True\n",
    "\n",
    "The output value is always 'False', regardless of the input value of p\n",
    "\n",
    "in Logic:\n",
    " | p | T |\n",
    "|-------|----|\n",
    "| T     | T  |\n",
    "| F     | T  |\n",
    "\n",
    "in computer:\n",
    " | a | T |\n",
    "|-------|----|\n",
    "| 1     | 1  |\n",
    "| 0     | 1  |\n",
    "\n",
    "### logical False\n",
    "\n",
    "The output value is always 'False', regardless of the input value of p\n",
    "\n",
    " | a | F|\n",
    "|-------|----|\n",
    "| 1     | 0  |\n",
    "| 0     | 0  |"
   ]
  },
  {
   "cell_type": "code",
   "execution_count": 1,
   "metadata": {},
   "outputs": [
    {
     "data": {
      "text/plain": [
       "True"
      ]
     },
     "execution_count": 1,
     "metadata": {},
     "output_type": "execute_result"
    }
   ],
   "source": [
    "#Evaluete to Fale\n",
    "x = None\n",
    "x = 0\n",
    "x = False\n",
    "\n",
    "#sequence\n",
    "x=\"\"\n",
    "#x = ()\n",
    "x = []\n",
    "\n",
    "#maping\n",
    "x = {}\n",
    "\n",
    "#Evaluete to True\n",
    "x = True\n",
    "#x = 1\n",
    "#x = \"hello\"\n",
    "#x = [1,2]\n",
    "\n",
    "bool(x)"
   ]
  },
  {
   "cell_type": "markdown",
   "metadata": {},
   "source": [
    "### Boolien operators\n",
    "\n",
    "`==` equal  \n",
    "`!=` not equal  \n",
    "`<, >, <=, >=`  \n",
    "\n",
    "`is` object identity\n",
    "\n",
    "`or`  \n",
    "`not`   \n",
    "`and`  \n",
    "\n",
    "\n"
   ]
  },
  {
   "cell_type": "code",
   "execution_count": 9,
   "metadata": {},
   "outputs": [
    {
     "name": "stdout",
     "output_type": "stream",
     "text": [
      "no match\n"
     ]
    }
   ],
   "source": [
    "language = 'Java'\n",
    "\n",
    "if language =='Python':\n",
    "    print(\"Conditional is true\")\n",
    "else:\n",
    "    print('no match')"
   ]
  },
  {
   "cell_type": "code",
   "execution_count": null,
   "metadata": {},
   "outputs": [],
   "source": [
    "x = \"Hi\"\n",
    "if x == \"Hi\":\n",
    "    print(\"Hi\")\n",
    "\n",
    "if type(x) is str: \n",
    "    print(\"It is str object\")\n",
    "\n",
    "if isinstance(x,str):\n",
    "    print(\"Also str\")\n",
    "\n"
   ]
  },
  {
   "cell_type": "markdown",
   "metadata": {},
   "source": [
    "### logical identity\n",
    "\n",
    "The output value is always input value\n",
    "\n",
    "\n",
    " | a | a |\n",
    "|-----|----|\n",
    "| 1   | 1  |\n",
    "| 0   | 0  |"
   ]
  },
  {
   "cell_type": "code",
   "execution_count": 10,
   "metadata": {},
   "outputs": [
    {
     "data": {
      "image/png": "[encoded data removed]",
      "text/plain": [
       "<Figure size 432x288 with 1 Axes>"
      ]
     },
     "metadata": {
      "needs_background": "light"
     },
     "output_type": "display_data"
    }
   ],
   "source": [
    "#input->x output->y\n",
    "x = np.linspace(-10,10,50)\n",
    "y = x\n",
    "plt.plot(x,y, \"o\")\n",
    "plt.show()"
   ]
  },
  {
   "cell_type": "markdown",
   "metadata": {},
   "source": [
    "\n",
    "### Logical NOT $\\lnot$ (negation)\n",
    "\n",
    "  not  $\\lnot$\n",
    "\n",
    " \n",
    " | a | $\\lnot$ a |\n",
    "|-------|--------|\n",
    "| 1     | 0      |\n",
    "| 0     | 1      |\n"
   ]
  },
  {
   "cell_type": "code",
   "execution_count": 15,
   "metadata": {},
   "outputs": [
    {
     "name": "stdout",
     "output_type": "stream",
     "text": [
      "False\n",
      "[1, 2]\n"
     ]
    }
   ],
   "source": [
    "#x = None\n",
    "#x = 0\n",
    "#x = False\n",
    "#x=\"\"\n",
    "#x = []\n",
    "\n",
    "\n",
    "#x = True\n",
    "#x = 1\n",
    "#x = \"hello\"\n",
    "x = [1,2]\n",
    "\n",
    "# return True, if not  the item\n",
    "print(not x)\n",
    "print(x)"
   ]
  },
  {
   "cell_type": "code",
   "execution_count": 21,
   "metadata": {},
   "outputs": [
    {
     "data": {
      "text/plain": [
       "1.0"
      ]
     },
     "execution_count": 21,
     "metadata": {},
     "output_type": "execute_result"
    }
   ],
   "source": [
    "\n",
    "#abs(x)\n",
    "def my_abs(x):\n",
    "    if x < 0:\n",
    "        x = float(str(x)[1:])\n",
    "        return x\n",
    "    else:\n",
    "        return x\n",
    "my_abs(-1)"
   ]
  },
  {
   "cell_type": "code",
   "execution_count": 22,
   "metadata": {},
   "outputs": [
    {
     "data": {
      "text/plain": [
       "1"
      ]
     },
     "execution_count": 22,
     "metadata": {},
     "output_type": "execute_result"
    }
   ],
   "source": [
    "\n",
    "def my_abs(x):\n",
    "    if not(x < 0):\n",
    "        return x\n",
    "    else:\n",
    "        x = str(x)[1:]\n",
    "        x = int(x)\n",
    "        return x\n",
    "my_abs(-1)"
   ]
  },
  {
   "cell_type": "markdown",
   "metadata": {},
   "source": [
    "### Logical AND $\\land$ (conjunction) \n",
    "\n",
    "produces a value of true if both of its operands is true\n",
    "\n",
    "| a | b | $ a \\land b $ |\n",
    "|---|---|---------------|\n",
    "| 1 | 1 | 1             |\n",
    "| 0 | 1 | 0             |\n",
    "| 1 | 0 | 0             |\n",
    "| 0 | 0 | 0             |"
   ]
  },
  {
   "cell_type": "code",
   "execution_count": null,
   "metadata": {},
   "outputs": [],
   "source": [
    "a = 2\n",
    "b = 3\n",
    "\n",
    "if isinstance(a,int) and isinstance(b,int):\n",
    "    print(\"Both integers\") #true in 1 !\n",
    "\n",
    "else:\n",
    "    print(\"Not both interges!\")"
   ]
  },
  {
   "cell_type": "markdown",
   "metadata": {},
   "source": [
    "\n",
    "### Logical OR $\\lor$ (disjunction) \n",
    "\n",
    " produces a value of true if at least one of its operands is true\n",
    "\n",
    "| a | b | $ a \\lor b $ |\n",
    "|---|---|--------------|\n",
    "| 1 | 1 | 1            |\n",
    "| 0 | 1 | 1            |\n",
    "| 1 | 0 | 1            |\n",
    "| 0 | 0 | 0            |"
   ]
  },
  {
   "cell_type": "code",
   "execution_count": null,
   "metadata": {},
   "outputs": [],
   "source": [
    "a = 2.2\n",
    "b = 3.3\n",
    "\n",
    "if isinstance(a,int) or isinstance(b,int):\n",
    "    print(\"we have interges!\") # True in 3!\n",
    "else:\n",
    "    print(\"No interges!\")"
   ]
  },
  {
   "cell_type": "markdown",
   "metadata": {},
   "source": [
    "### Logical  $ \\Rightarrow$  implication and  Material $ \\rightarrow$ consequence\n",
    "\n",
    "- a is always in b\n",
    "- b is not always in a  \n",
    "=> if a not in b, that False!\n",
    "\n",
    "-------------\n",
    "\n",
    " *$ \\Rightarrow$  Logical implication*: \n",
    "\n",
    "a implies b (means)\n",
    "\n",
    "| a | b | $ a \\Rightarrow b $ |\n",
    "|---|---|--------------|\n",
    "| 1 | 1 | 1            |\n",
    "| 0 | 1 | 1            |\n",
    "| 1 | 0 | 0            |\n",
    "| 0 | 0 | 1            |\n",
    "\n",
    "*$\\rightarrow$ Material consequence*: \n",
    "\n",
    "if a than b \n",
    "\n",
    "| a | b | $ a \\rightarrow b $ |\n",
    "|---|---|--------------|\n",
    "| 1 | 1 | 1            |\n",
    "| 0 | 1 | 1            |\n",
    "| 1 | 0 | 0            |\n",
    "| 0 | 0 | 1            |\n",
    "\n",
    "\n",
    "-------------------\n",
    " *$ \\Leftarrow$  Converse implication*: \n",
    "\n",
    "b implies a (means)\n",
    "\n",
    "| a | b | $ a \\Leftarrow b $ |\n",
    "|---|---|--------------|\n",
    "| 1 | 1 | 1            |\n",
    "| 0 | 1 | 0            |\n",
    "| 1 | 0 | 1            |\n",
    "| 0 | 0 | 1            |\n"
   ]
  },
  {
   "cell_type": "code",
   "execution_count": null,
   "metadata": {},
   "outputs": [],
   "source": [
    "a = 11\n",
    "b = range(0,10)\n",
    "\n",
    "if a in b:\n",
    "    print(True)\n",
    "else:\n",
    "    print(False)\n"
   ]
  },
  {
   "cell_type": "markdown",
   "metadata": {},
   "source": [
    "### Logical $\\oplus$ exclusive OR  (**XOR**)\n",
    " \n",
    "\n",
    "that produces a value of true if one operands is true.\n",
    "\n",
    "| a | b | $ a \\oplus b $ |\n",
    "|---|---|--------------|\n",
    "| 1 | 1 | 0           |\n",
    "| 0 | 1 | 1            |\n",
    "| 1 | 0 | 1            |\n",
    "| 0 | 0 | 0            |\n"
   ]
  },
  {
   "cell_type": "markdown",
   "metadata": {},
   "source": [
    "### Logical $\\Leftrightarrow$ equality = (**XNOR**)\n",
    "\n",
    "*if-and-only-if*\n",
    "opposite of XOR $\\oplus$\n",
    "\n",
    "that produces a value of true if both operands are false or both operands are true\n",
    "\n",
    "| a | b | $ a \\Leftrightarrow b $ |\n",
    "|---|---|--------------|\n",
    "| 1 | 1 | 1            |\n",
    "| 0 | 1 | 0            |\n",
    "| 1 | 0 | 0            |\n",
    "| 0 | 0 | 1            |\n"
   ]
  },
  {
   "cell_type": "markdown",
   "metadata": {},
   "source": [
    "### Logical $\\uparrow$ (NAND) \n",
    "\n",
    "opposite of **AND** $\\land$  \n",
    "\n",
    "that produces a value of true if both operands is False.\n",
    "\n",
    "| a | b | $ a \\uparrow b $ |\n",
    "|---|---|--------------|\n",
    "| 1 | 1 | 0           |\n",
    "| 0 | 1 | 1           |\n",
    "| 1 | 0 | 1           |\n",
    "| 0 | 0 | 1           |"
   ]
  },
  {
   "cell_type": "markdown",
   "metadata": {},
   "source": [
    "### Logical $\\downarrow$ NOR \n",
    "\n",
    "opposite of 0R $\\lor$\n",
    "\n",
    "that produces a value of true if both operands is False.\n",
    "\n",
    "| a | b | $ a \\downarrow b $ |\n",
    "|---|---|--------------|\n",
    "| 1 | 1 | 0           |\n",
    "| 0 | 1 | 0           |\n",
    "| 1 | 0 | 0           |\n",
    "| 0 | 0 | 1           |"
   ]
  },
  {
   "cell_type": "markdown",
   "metadata": {},
   "source": [
    "## 2. Sets \n",
    "\n",
    "**Set** - Collection of elements (Mengen)\n",
    "    \n",
    "in python-> objekt/class - `set` \n",
    "\n",
    "$A = \\{0,1,2,3\\}$     \n",
    "$B = \\{blue,red,white\\}$  \n",
    "$C = \\{1,2,3 …, 100\\}$     \n",
    "$D = \\{0,1,2,…\\}$    \n",
    "$E = \\{-\\infty,…,-3,-2,-1,0,1,2,3,…, \\infty\\}$ \n",
    "\n",
    "notation:  \n",
    "$F = \\{ x\\colon 0\\le n \\le 20 \\}$ \n",
    "\n",
    "emtyset:  \n",
    "$G = \\{ \\varnothing \\}$"
   ]
  },
  {
   "cell_type": "code",
   "execution_count": 24,
   "metadata": {},
   "outputs": [
    {
     "name": "stdout",
     "output_type": "stream",
     "text": [
      "{1, 2, 3, 4, 5} <class 'set'>\n",
      "{1, 3, 6, 7, 8, 9} <class 'set'>\n",
      "{1, 2, 3, 4, 5, 6, 7, 8, 9, 10, 11, 12, 13, 14, 15, 16, 17, 18, 19, 20, 21, 22, 23, 24, 25, 26, 27, 28, 29, 30, 31, 32, 33, 34, 35, 36, 37, 38, 39, 40, 41, 42, 43, 44, 45, 46, 47, 48, 49, 50, 51, 52, 53, 54, 55, 56, 57, 58, 59, 60, 61, 62, 63, 64, 65, 66, 67, 68, 69, 70, 71, 72, 73, 74, 75, 76, 77, 78, 79, 80, 81, 82, 83, 84, 85, 86, 87, 88, 89, 90, 91, 92, 93, 94, 95, 96, 97, 98, 99} <class 'set'>\n",
      "{-inf, inf} <class 'set'>\n",
      "set() <class 'set'>\n"
     ]
    }
   ],
   "source": [
    "#from list make set\n",
    "list1=[1,2,3,4,5,1,4]\n",
    "a= set() # new objekt\n",
    "for x in list1:\n",
    "    a.add(x)\n",
    "\n",
    "# set\n",
    "b={1,3,6,7,8,9}\n",
    "\n",
    "# with np.arange\n",
    "c = set(np.arange(1,100))\n",
    "\n",
    "# with infinity\n",
    "d = {-math.inf,math.inf}\n",
    "\n",
    "#emty set with set()\n",
    "#e = {} #dict\n",
    "e = set() #set\n",
    "\n",
    "\n",
    "print(a, type(a))\n",
    "print(b,type(b))\n",
    "print(c,type(c))\n",
    "print(d,type(d))\n",
    "print(e,type(e))"
   ]
  },
  {
   "cell_type": "markdown",
   "metadata": {},
   "source": [
    "### 2.1 Membersip $\\in$\n",
    "\n",
    "A -set  \n",
    "a -element\n",
    "\n",
    "$ a \\in A$ , a in A  \n",
    "$ A \\ni a$ , A owns a  \n",
    "$ a \\notin A $ , a not in A   \n",
    "$ A \\not\\ni a $ , A not owns a    \n",
    "\n",
    "#### Cardinality $\\vert S \\vert$\n",
    "\n",
    "Number of members in set \n",
    "\n"
   ]
  },
  {
   "cell_type": "code",
   "execution_count": null,
   "metadata": {},
   "outputs": [],
   "source": [
    "a_set = {1,2,3}\n",
    "a = 2\n",
    "#a = 4  \n",
    "\n",
    "if a in a_set:\n",
    "    print(a, \" is element of set:\", a_set)\n",
    "else:\n",
    "    print(\"a is not in the set\")\n",
    "\n",
    "print(\"Cardinality of set: \", len(a_set))"
   ]
  },
  {
   "cell_type": "markdown",
   "metadata": {},
   "source": [
    "### 2.2 Subsets $\\subset $\n",
    "\n",
    "Subset:   \n",
    "$ A \\subset B $   \n",
    "$ B \\not\\subset A $\n",
    "\n",
    "Superset:   \n",
    "$B \\supset A $   \n",
    "$A \\not\\supset B $  "
   ]
  },
  {
   "cell_type": "code",
   "execution_count": null,
   "metadata": {},
   "outputs": [],
   "source": [
    "b = {1,2,3,4,5,6}\n",
    "a = {1,2,3}\n",
    "\n",
    "#is subset?\n",
    "print(a.issubset(b))\n",
    "print(b.issubset(a))\n",
    "\n",
    "#is superset?\n",
    "print(a.issuperset(b))\n",
    "print(b.issuperset(a))"
   ]
  },
  {
   "cell_type": "markdown",
   "metadata": {},
   "source": [
    "### 2.3 Numbers \n",
    "\n",
    "![numbers](numbers.png)\n",
    "\n",
    "Natural numbers ( natürliche Zahlen)    \n",
    "$\\mathbb{N} = \\{0,1,2,3,…\\}$   \n",
    "$\\mathbb{N} \\subset \\mathbb{Z}$  \n",
    "\n",
    "Integeres ( ganze Zahlen)  \n",
    "$\\mathbb{Z} = \\{…, -3,-2,-1,0,1,2,3,…\\}$  \n",
    "$\\mathbb{Z} \\subset \\mathbb{Q}$   \n",
    "\n",
    "Rational numbers (rationale Zahlen)  \n",
    "$\\mathbb{Q} = \\{\\frac ab: a,b \\in \\mathbb{Z}, b \\not= 0 \\}$  \n",
    "$\\mathbb{Q} \\subset \\mathbb{R}$ \n",
    "\n",
    "\n",
    "\n",
    "Real numbers (reele zahlen)   \n",
    "$\\mathbb{R}= \\mathbb{Q} \\cup IR $\n",
    " \n",
    " - Irational numbers(irationale zahlen)  ->constans  \n",
    " $IR = \\pi, e, \\phi, \\sqrt 2 $\n",
    "\n",
    " $\\mathbb{R} \\subset \\mathbb{C}$   \n",
    "\n",
    "Complex numbers   \n",
    "$ \\mathbb{C} = \\{ a + bi: a,b \\in \\mathbb{R}\\}$  \n",
    " - Imaginary unit -> constant   \n",
    " $i$ - indetermminate,  $i^2=(-1)^2= -1 $\n"
   ]
  },
  {
   "cell_type": "markdown",
   "metadata": {},
   "source": [
    "### 2.4 Functions (mapping)\n",
    "\n",
    "from a set A to a set B \n",
    "\n",
    "Function - rule that assignt to each `input` $\\in A $  an `output` $\\in B $  \n",
    "\n",
    "$ x \\in A $ - `input` \n",
    "\n",
    "$ f(x) \\in B $  - `output`\n",
    "\n",
    "Rule $ f(x)=x $ \n",
    "\n",
    " 1. Notation\n",
    " 2. Graphs\n",
    " 3. Tables\n",
    "\n",
    "\n",
    " \n"
   ]
  },
  {
   "cell_type": "markdown",
   "metadata": {},
   "source": [
    "### 2.5 0perations with sets\n",
    "\n",
    "Unions (vereinigung): \n",
    "\n",
    "\n",
    "Intersection(schnittmenge):\n",
    "\n",
    "Complement:\n",
    "\n",
    "Cartesian product: "
   ]
  },
  {
   "cell_type": "code",
   "execution_count": 25,
   "metadata": {},
   "outputs": [
    {
     "name": "stdout",
     "output_type": "stream",
     "text": [
      "Intersection of 2 sets: {1, 3}\n",
      "Difference of 2 sets:  {2, 4, 5}\n"
     ]
    }
   ],
   "source": [
    "#union\n",
    "\n",
    "#schnittmenge\n",
    "print(\"Intersection of 2 sets:\",a.intersection(b))\n",
    "\n",
    "#complement\n",
    "print(\"Difference of 2 sets: \",a.difference(b))\n",
    "\n"
   ]
  },
  {
   "cell_type": "markdown",
   "metadata": {},
   "source": []
  }
 ],
 "metadata": {
  "interpreter": {
   "hash": "c8c7d4901aa86a72b4e4342bf1eb5d98bfe197cab40e28b58cecccc59f66f213"
  },
  "kernelspec": {
   "display_name": "Python 3.8.10 ('base')",
   "language": "python",
   "name": "python3"
  },
  "language_info": {
   "codemirror_mode": {
    "name": "ipython",
    "version": 3
   },
   "file_extension": ".py",
   "mimetype": "text/x-python",
   "name": "python",
   "nbconvert_exporter": "python",
   "pygments_lexer": "ipython3",
   "version": "3.8.10"
  },
  "orig_nbformat": 4
 },
 "nbformat": 4,
 "nbformat_minor": 2
}
