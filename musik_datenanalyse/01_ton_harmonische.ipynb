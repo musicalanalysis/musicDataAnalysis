{
 "cells": [
  {
   "cell_type": "code",
   "execution_count": 1,
   "metadata": {},
   "outputs": [],
   "source": [
    "#Bibliotheken laden\n",
    "import numpy as np\n",
    "import matplotlib.pyplot as plt\n",
    "import IPython.display as ipd\n",
    "\n"
   ]
  },
  {
   "cell_type": "markdown",
   "metadata": {},
   "source": [
    "# Ton\n",
    "\n",
    "auf dem Gebiet des Klanges gibt es starke Verbindung zwischen Musik, Physik und Mathematik. Deswegen betrachten wir den musikalische Klang von verschiedene Dimensionen:\n",
    "\n",
    " -  musikalische Erreignis - **Ton**\n",
    " \n",
    " - physikalische Erreignis - **Musikalische Klang**\n",
    " \n",
    " -  mathematische **Funktion**, Folge usw..\n",
    "\n",
    "Anmerkungen:\n",
    "Da ich für diesen Projekt deutsche und englische Quellen benutzt habe, sind dabei auch **enlische Begriffe oder Wörte** (*kursiv* geschreiben). Ich mache es auch bewusst, da Teil von euch würden gern in bestimmte Themegebiet vielleicht mehr nachschlagen. Nach meine Erfahrung kann etwas in andere Sprache besser erklärt werden. Aber wichtig ist genau wissenschaftliche Äqivalent bei Begriffen richtig kennen. Viel Spaß beim lesen!"
   ]
  },
  {
   "cell_type": "markdown",
   "metadata": {},
   "source": [
    "## 1. Ton (Musik)\n",
    "\n",
    "Der Ton ist complex und besteht aus Teiltöne. "
   ]
  },
  {
   "cell_type": "markdown",
   "metadata": {},
   "source": [
    "### 1.1 Teiltöne(*partials*)"
   ]
  },
  {
   "cell_type": "markdown",
   "metadata": {},
   "source": [
    "## 2. Musicalische Klang(Physik)"
   ]
  },
  {
   "cell_type": "markdown",
   "metadata": {},
   "source": [
    "### 2.1 Wellenform, Zeitdimension \n",
    "\n",
    "akustische Sygnal in Elektronik \n",
    "\n",
    "PCM Sygnal (zeitdiskret und wertkoninuirlich) z"
   ]
  },
  {
   "cell_type": "markdown",
   "metadata": {},
   "source": [
    "### 2.2 Harmonische *Harmonic Series*\n",
    "\n",
    "- Order -n \n",
    "\n",
    "- Visualisation: Seitenschwingung und longitudinal Welle"
   ]
  },
  {
   "cell_type": "markdown",
   "metadata": {},
   "source": [
    "### 2.3 Harmonische Schwinkungen\n",
    "\n",
    "- Kreiswinkel *Angular frequency*  - $\\omega $ (*omega*)\n",
    "\n",
    "- *Angular Diplacement* -$\\theta$ (*theta*)\n",
    "\n",
    "*Circle Motion*\n",
    "\n",
    "+Simple harmonic Motion*\n",
    "\n",
    "Sinuston/ Reinerton"
   ]
  },
  {
   "cell_type": "markdown",
   "metadata": {},
   "source": [
    "## 3. Fourier series(Mathematik)\n",
    "*Fourier series- a sum that represents a periodic Function. as a sum of of sinusoids Waves*\n",
    "\n",
    "Ton, in Mathemetik represents a **sinusoid Funktion**.\n",
    "\n",
    "**Sinusoid Funktion** = (sin(x), cos(x)) - harmonische Schwinkungen(simple harmonic Motion)\n",
    "\n",
    "Teilton(Musik) ->  harmonische Schwinkung -> Sinuston (Physik) ->  sinusoids sin(x),cos(x)(Mathematik)"
   ]
  },
  {
   "cell_type": "markdown",
   "metadata": {},
   "source": [
    "### 3.1 Trigonometric Series(Polynomraum)\n",
    "\n",
    "Coeficient in Polynomial =  Harmonische\n",
    "\n",
    "Magnitude = Summe von Coefficient in Polynomial  = Amplitude von harmonische"
   ]
  },
  {
   "cell_type": "markdown",
   "metadata": {},
   "source": [
    "### 3.2 Tailor series"
   ]
  },
  {
   "cell_type": "markdown",
   "metadata": {},
   "source": [
    "### 3.3 *Derivatevs(Calculus)*\n",
    "\n",
    "Ableitung der sinusoid Funktion/Derivetives = Teilton\n",
    "\n",
    "Fourier Series-Approximation \n",
    "\n",
    "More Derivatives-> More aopproximation!!!\n",
    "\n",
    "3d Visualisation"
   ]
  },
  {
   "cell_type": "markdown",
   "metadata": {},
   "source": [
    "### 3.3 Epycicles\n",
    "\n"
   ]
  },
  {
   "cell_type": "markdown",
   "metadata": {},
   "source": [
    "#### Komplex Sinusoid\n",
    "\n",
    "Komplexe Ebene\n",
    "\n",
    "$\\mathbb{C}$- komplexe Zahl = $z$\n",
    "\n",
    "$\\Im(z)$ *Imaginary Teil- imaginary Sinusoid(sin(x))*\n",
    "\n",
    "$\\Re(z)$ *Real Teil-real Sinusoid(cos(x))*\n",
    "\n",
    "\n"
   ]
  },
  {
   "cell_type": "markdown",
   "metadata": {},
   "source": [
    "#### Einheitskreis\n",
    "\n",
    "Sinus und cosinus Funktion in Einheitskreis\n"
   ]
  },
  {
   "cell_type": "code",
   "execution_count": 5,
   "metadata": {},
   "outputs": [
    {
     "name": "stdout",
     "output_type": "stream",
     "text": [
      "3.141592653589793\n"
     ]
    }
   ],
   "source": [
    "print(np.pi)"
   ]
  },
  {
   "cell_type": "markdown",
   "metadata": {},
   "source": [
    "#### Vektorraum\n",
    "\n",
    "Vektor ->neuer Kreis/Raum \n",
    "\n",
    "Vektor = radius\n",
    "\n",
    "Vektor = magnitude von *Coefficient* = Ampllitide von Teilton"
   ]
  },
  {
   "cell_type": "markdown",
   "metadata": {},
   "source": [
    "#### E-function\n",
    "\n",
    "$e^{i\\cdot2\\pi\\cdot fr \\cdot t}$\n"
   ]
  },
  {
   "cell_type": "markdown",
   "metadata": {},
   "source": [
    "####  Epycicles\n",
    "\n",
    "Fourierseries cn*e = \n",
    "\n",
    "Converenge of Fourier Series- Drawing **Complex sinusoid Function**"
   ]
  },
  {
   "cell_type": "markdown",
   "metadata": {},
   "source": [
    "Drawing real part Function\n",
    "\n",
    "cos(x)"
   ]
  },
  {
   "cell_type": "markdown",
   "metadata": {},
   "source": [
    "## 3.4 Fourier coefficient\n",
    "\n",
    "\n",
    "Fourier Coefficient:\n",
    "$c_n$ \n",
    "$\\hat{f_n}$\n",
    "\n"
   ]
  },
  {
   "cell_type": "markdown",
   "metadata": {},
   "source": [
    "\n",
    "\n",
    "### magnitude = amplitude = ansolute wert of Comlex number\n",
    "\n",
    "Approximation of Magnitude More Terms => near Magnitude"
   ]
  },
  {
   "cell_type": "markdown",
   "metadata": {},
   "source": [
    "### angle = phase = argument"
   ]
  },
  {
   "cell_type": "markdown",
   "metadata": {},
   "source": [
    "### 3.5 Harmonische Analyse (*Harmonic analysis*) (Mathematik)\n",
    "\n",
    "Ton-> Musicalischer Klang-->Signal\n",
    "\n",
    "Signal = **Funktion**\n",
    "\n",
    ">Die **beliebege Funktion** kann als Summe von **harmonische Schwinkungen** dargestellt werden. \n",
    "\n",
    "Harmonische Schwinkung = Sinuston (Physik)\n",
    "\n",
    "> Fourier series Sn(x)- syntesis(additive) of a periodic Functijon s(x), by summing harmonically related sinusoids(**harmonics**)\n"
   ]
  },
  {
   "cell_type": "markdown",
   "metadata": {},
   "source": [
    "\n",
    "### Drawing every Function)"
   ]
  },
  {
   "cell_type": "markdown",
   "metadata": {},
   "source": [
    "## 4 Fourier Transform"
   ]
  },
  {
   "cell_type": "markdown",
   "metadata": {},
   "source": [
    "### 4.1 Laplace Transform\n",
    "\n",
    "Faltung *Convolution*: $f \\ast g$ \n",
    "\n",
    "Laplace Transform:\n",
    "\n"
   ]
  },
  {
   "cell_type": "markdown",
   "metadata": {},
   "source": [
    "### 4.2 \"Winding\" Frequency \n",
    "3b1b\n"
   ]
  },
  {
   "cell_type": "markdown",
   "metadata": {},
   "source": [
    "### 4.3 Fourier Transform\n",
    "\n",
    "Fourier Transform:\n",
    "$\\hat{f}$ \n",
    "\n",
    "$$\\hat f= \\int_{-\\infty}^{\\infty} f(t) \\cdot e^{i\\cdot2\\pi\\cdot fr \\cdot t} \\cdot dt $$\n",
    "\n"
   ]
  },
  {
   "cell_type": "markdown",
   "metadata": {},
   "source": []
  }
 ],
 "metadata": {
  "kernelspec": {
   "display_name": "Python 3.9.12 ('musda')",
   "language": "python",
   "name": "python3"
  },
  "language_info": {
   "codemirror_mode": {
    "name": "ipython",
    "version": 3
   },
   "file_extension": ".py",
   "mimetype": "text/x-python",
   "name": "python",
   "nbconvert_exporter": "python",
   "pygments_lexer": "ipython3",
   "version": "3.9.12"
  },
  "orig_nbformat": 4,
  "vscode": {
   "interpreter": {
    "hash": "429f2fb3099a1d06ac4a0a3294bf37318abad212278278ecdd3cbb1177cfb66c"
   }
  }
 },
 "nbformat": 4,
 "nbformat_minor": 2
}
